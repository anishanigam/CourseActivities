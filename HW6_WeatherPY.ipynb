{
 "cells": [
  {
   "cell_type": "code",
   "execution_count": 1,
   "metadata": {},
   "outputs": [],
   "source": [
    "# import matplotlib.pyplot as plt\n",
    "# import pandas as pd\n",
    "# import numpy as np\n",
    "# import requests\n",
    "# import time\n",
    "\n",
    "# import api_keys"
   ]
  },
  {
   "cell_type": "code",
   "execution_count": 2,
   "metadata": {},
   "outputs": [],
   "source": [
    "# import matplotlib.pyplot as plt\n",
    "# import requests\n",
    "# import pandas as pd\n",
    "# import numpy as np\n",
    "# import time\n",
    "# from citipy import citipy\n",
    "# from random import uniform"
   ]
  },
  {
   "cell_type": "code",
   "execution_count": 3,
   "metadata": {},
   "outputs": [],
   "source": [
    "# from citipy import citipy"
   ]
  },
  {
   "cell_type": "code",
   "execution_count": 4,
   "metadata": {},
   "outputs": [],
   "source": [
    "# api_key = \"2dcb4762f67262ccefb859ef4223abb7\""
   ]
  },
  {
   "cell_type": "code",
   "execution_count": 5,
   "metadata": {},
   "outputs": [],
   "source": [
    "# api_key"
   ]
  },
  {
   "cell_type": "code",
   "execution_count": 6,
   "metadata": {},
   "outputs": [],
   "source": [
    "# output_data_file = \"output_data/cities.csv\""
   ]
  },
  {
   "cell_type": "code",
   "execution_count": 7,
   "metadata": {},
   "outputs": [],
   "source": [
    "# api_key"
   ]
  },
  {
   "cell_type": "code",
   "execution_count": 8,
   "metadata": {},
   "outputs": [],
   "source": [
    "# column_type = [\"City\", \"Country\"]"
   ]
  },
  {
   "cell_type": "code",
   "execution_count": 9,
   "metadata": {},
   "outputs": [],
   "source": [
    "# cities_df = pd.DataFrame(columns = column_type)"
   ]
  },
  {
   "cell_type": "code",
   "execution_count": 10,
   "metadata": {},
   "outputs": [],
   "source": [
    "# column_names = [\"City\", \"Country\"]\n",
    "# cities_df = pd.DataFrame(columns=column_names)"
   ]
  },
  {
   "cell_type": "code",
   "execution_count": 11,
   "metadata": {},
   "outputs": [],
   "source": [
    "# for x in range(1750):\n",
    "#     lat, lng = np.random.uniform(low=-90.000, high=90.000), np.random.uniform(low=-180.000, high=180.000)\n",
    "#     city = citipy.nearest_city(lat, lng)\n",
    "#     cities_df = cities_df.append({\"City\": city.city_name,\"Country\": city.country_code,}, ignore_index=True)\n",
    "\n",
    "# #Remove duplicate cities\n",
    "# cities_df = cities_df.drop_duplicates(subset='City').reset_index()\n",
    "# cities_df.count()"
   ]
  },
  {
   "cell_type": "code",
   "execution_count": 12,
   "metadata": {},
   "outputs": [],
   "source": [
    "# lat_range = (-90, 90)\n",
    "# lng_range = (-180, 180)"
   ]
  },
  {
   "cell_type": "code",
   "execution_count": 13,
   "metadata": {},
   "outputs": [],
   "source": [
    "# lat_lngs = []\n",
    "# cities = []"
   ]
  },
  {
   "cell_type": "code",
   "execution_count": 14,
   "metadata": {},
   "outputs": [],
   "source": [
    "# lats = np.random.uniform(low = - 90.000, high = 90.000, size = 1500)\n",
    "# lngs = np.random.uniform(low = -180.000, high = 180.000, size = 1500)\n",
    "# lat_lngs = zip(lats, lngs)"
   ]
  },
  {
   "cell_type": "code",
   "execution_count": null,
   "metadata": {},
   "outputs": [],
   "source": [
    "# for lat_lng in lat_lngs:\n",
    "#     city = citipy.nearest_city(lat_lng[0], lat_lng[1]).city_name\n",
    "\n",
    "import json\n",
    "import requests\n",
    "import random\n",
    "import pandas as pd\n",
    "import numpy as np\n",
    "import time\n",
    "from citipy import citipy\n",
    "import matplotlib.pyplot as plt\n",
    "import seaborn as sns"
   ]
  },
  {
   "cell_type": "code",
   "execution_count": null,
   "metadata": {},
   "outputs": [],
   "source": [
    "# if city not in cities:\n",
    "#     cities.append(city)\n",
    "    \n",
    "# len(cities)"
   ]
  },
  {
   "cell_type": "code",
   "execution_count": null,
   "metadata": {},
   "outputs": [],
   "source": [
    "\n",
    "# #Create a df to add all the data from the API calls.\n",
    "# column_names = [\"City\", \"Country\",\"Temperature (F)\",\n",
    "#                 \"Latitude\",\"Longitude\",\"Humidity (%)\",\n",
    "#                 \"Cloudiness (%)\", \"Wind Speed (mph)\"]\n",
    "# clean_cities_df = pd.DataFrame(columns=column_names)\n",
    "\n",
    "# # Loop through the list of cities and add the data to the df.\n",
    "# url = \"http://api.openweathermap.org/data/2.5/weather?\"\n",
    "\n",
    "# row_count = 1\n"
   ]
  },
  {
   "cell_type": "code",
   "execution_count": null,
   "metadata": {},
   "outputs": [],
   "source": [
    "# clean_cities_df.count()"
   ]
  },
  {
   "cell_type": "code",
   "execution_count": null,
   "metadata": {},
   "outputs": [],
   "source": [
    "# lat_range = (-90, 90)\n",
    "# lng_range = (-180, 180)"
   ]
  },
  {
   "cell_type": "code",
   "execution_count": null,
   "metadata": {},
   "outputs": [],
   "source": [
    "# lat_lngs = []\n",
    "# cities = []"
   ]
  },
  {
   "cell_type": "code",
   "execution_count": null,
   "metadata": {},
   "outputs": [],
   "source": [
    "# lats = np.random.uniform(low = -90.000, high = 90.000, size = 1500)\n",
    "# lngs = np.random.uniform(low = -180.000, high = 180.000, size = 1500)\n",
    "# lat_lngs = zip(lats, lngs)\n",
    "# for lat_lng in lat_lngs:\n",
    "#     city = citipy.nearest_city(lat_lng[0], lat_lng[1].city_name)\n",
    "    \n",
    "#     if city not in cities:\n",
    "#         cities.append(city)\n",
    "        \n",
    "#     len(cities)"
   ]
  },
  {
   "cell_type": "code",
   "execution_count": null,
   "metadata": {},
   "outputs": [],
   "source": [
    "# for lat_lng in lat_lngs:\n",
    "#     city = citipy.nearest_city(lat_lng[0], lat_lng[1].city_name)"
   ]
  },
  {
   "cell_type": "code",
   "execution_count": null,
   "metadata": {},
   "outputs": [],
   "source": []
  },
  {
   "cell_type": "code",
   "execution_count": null,
   "metadata": {},
   "outputs": [],
   "source": [
    "# base_url = \"http://api.openweathermap.org/data/2.5/weather?\""
   ]
  },
  {
   "cell_type": "code",
   "execution_count": null,
   "metadata": {},
   "outputs": [],
   "source": [
    "# city "
   ]
  },
  {
   "cell_type": "code",
   "execution_count": null,
   "metadata": {},
   "outputs": [],
   "source": [
    "# city_name = random.choice(city)"
   ]
  },
  {
   "cell_type": "code",
   "execution_count": null,
   "metadata": {},
   "outputs": [],
   "source": [
    "# city_name"
   ]
  },
  {
   "cell_type": "code",
   "execution_count": null,
   "metadata": {},
   "outputs": [],
   "source": [
    "# complete_url = base_url + \"appid\" + api_key + \"&q=\" + city_name"
   ]
  },
  {
   "cell_type": "code",
   "execution_count": null,
   "metadata": {},
   "outputs": [],
   "source": [
    "# Dependencies\n",
    "\n",
    "\n",
    "# Import Open Weather Map API key.\n",
    "# from owm_api_key import api_key"
   ]
  },
  {
   "cell_type": "code",
   "execution_count": null,
   "metadata": {},
   "outputs": [],
   "source": [
    "# Declare variables describing the scope of lat/lng search for cities. \n",
    "# Lat ranges from -90 to 90. Lng ranges from -180 to 180.\n",
    "lat = {'min': -90, 'max': 90}\n",
    "lng = {'min': -180, 'max': 180}\n",
    "\n",
    "# Create arrays containing increments of lat and long.\n",
    "lat_values = np.arange(lat['min'], lat['max'], 0.01)\n",
    "lng_values = np.arange(lng['min'], lng['max'], 0.01)\n",
    "# Create an empty data frame to city and weather data\n",
    "column_names = ('city_name', 'country_code', 'rand_lat', 'rand_lng', 'Latitude', 'Longitude','Temp (F)',\n",
    "            'Humidity (%)','Cloudiness (%)','Wind Speed (mph)')\n",
    "cities_df = pd.DataFrame(columns = column_names)\n",
    "cities_df"
   ]
  },
  {
   "cell_type": "code",
   "execution_count": null,
   "metadata": {
    "scrolled": false
   },
   "outputs": [],
   "source": [
    "'''Query Citipy with random lat-long values until we collect our sample, and append weather\n",
    "data via Open Weather Map API call.''' \n",
    "\n",
    "# Set the sample size.\n",
    "sample_size = 500\n",
    "\n",
    "target_url = 'http://api.openweathermap.org/data/2.5/weather?q='\n",
    "units = 'imperial'\n",
    "\n",
    "record = 0\n",
    "\n",
    "# Loop through and grab the Temp, Humidity, Cloudiness and Wind Speed using OpenWeatherMapAPI\n",
    "    \n",
    "while len(cities_df) < sample_size:\n",
    "    # Choose a random point within our lat-lng domain.\n",
    "    rand_lat = random.choice(lat_values)\n",
    "    rand_lng = random.choice(lng_values)\n",
    "    # Call citipy's nearest_city() method to get a city object.\n",
    "    city = citipy.nearest_city(rand_lat, rand_lng)\n",
    "    city_name = city.city_name\n",
    "    country_code = city.country_code\n",
    "    # Call Open Weather Map API to obtain data and append it to df\n",
    "    url = target_url + city_name + ',' + country_code + '&units=' + units + '&APPID=' + api_key\n",
    "    weather_response = requests.get(url)\n",
    "    weather_json = weather_response.json()\n",
    "    if weather_json[\"cod\"] == 200:\n",
    "        print('City: %s. %s' % (weather_json['name'], url))\n",
    "        latitude = weather_json[\"coord\"][\"lat\"]\n",
    "        longitude = weather_json[\"coord\"][\"lon\"]\n",
    "        temp = weather_json[\"main\"][\"temp\"]\n",
    "        humidity = weather_json[\"main\"][\"humidity\"]\n",
    "        cloud = weather_json[\"clouds\"][\"all\"]\n",
    "        wind = weather_json[\"wind\"][\"speed\"]\n",
    "        # Avoid repeating cities\n",
    "        if city_name not in cities_df.city_name.values:\n",
    "            print('Status code: %s. DF length is now: %d' % (str(weather_json[\"cod\"]), len(cities_df)+1))\n",
    "            # Append data to df columns\n",
    "            cities_df.set_value(record, \"city_name\", city_name)\n",
    "            cities_df.set_value(record, \"country_code\", country_code)\n",
    "            cities_df.set_value(record, \"rand_lat\", rand_lat)\n",
    "            cities_df.set_value(record, \"rand_lng\", rand_lng)\n",
    "            cities_df.set_value(record, \"Latitude\", latitude)\n",
    "            cities_df.set_value(record, \"Longitude\", longitude)\n",
    "            cities_df.set_value(record, \"Temp (F)\", temp)\n",
    "            cities_df.set_value(record, \"Humidity (%)\", humidity)\n",
    "            cities_df.set_value(record, \"Cloudiness (%)\", cloud)\n",
    "            cities_df.set_value(record, \"Wind Speed (mph)\", wind)\n",
    "\n",
    "            record += 1\n",
    "        \n",
    "            # Wait between 1-4 seconds before next loop\n",
    "            time.sleep(random.randint(1, 4))\n",
    "        else:\n",
    "            pass\n",
    "    else:\n",
    "        pass\n",
    "    \n",
    "print(\n",
    "\"------------------------------\\n\"\n",
    "\"Data Retrieval Complete\\n\"\n",
    "\"------------------------------\\n\"\n",
    ")\n",
    "\n",
    "# Visualize df\n",
    "cities_df.head()"
   ]
  },
  {
   "cell_type": "code",
   "execution_count": null,
   "metadata": {},
   "outputs": [],
   "source": [
    "# , , s = * 10,\n",
    "#            marker = \"o\", facecolors = \"red\", edgecolors = \"black\", alpha = 0.5, label = \"Urban\")"
   ]
  },
  {
   "cell_type": "code",
   "execution_count": null,
   "metadata": {},
   "outputs": [],
   "source": [
    "type(cities_df)"
   ]
  },
  {
   "cell_type": "code",
   "execution_count": null,
   "metadata": {},
   "outputs": [],
   "source": [
    "# (avg_urban_city_fare, total_urban_city_rides, s = total_urban_city_drivers * 10,\n",
    "#            marker = \"o\", facecolors = \"red\", edgecolors = \"black\", alpha = 0.5, label = \"Urban\")\n"
   ]
  },
  {
   "cell_type": "code",
   "execution_count": null,
   "metadata": {},
   "outputs": [],
   "source": [
    "#scatterplot"
   ]
  },
  {
   "cell_type": "code",
   "execution_count": null,
   "metadata": {},
   "outputs": [],
   "source": [
    "#latitude v temperature plot"
   ]
  },
  {
   "cell_type": "code",
   "execution_count": null,
   "metadata": {},
   "outputs": [],
   "source": [
    "#latitude v humidity plot"
   ]
  },
  {
   "cell_type": "code",
   "execution_count": null,
   "metadata": {},
   "outputs": [],
   "source": [
    "#latitude v cloudiness plot"
   ]
  },
  {
   "cell_type": "code",
   "execution_count": null,
   "metadata": {},
   "outputs": [],
   "source": [
    "#city latitude v windspeed(08/22/18)"
   ]
  },
  {
   "cell_type": "code",
   "execution_count": null,
   "metadata": {},
   "outputs": [],
   "source": [
    "len(cities_df)"
   ]
  },
  {
   "cell_type": "code",
   "execution_count": null,
   "metadata": {},
   "outputs": [],
   "source": [
    "# # Save the DataFrame as a csv\n",
    "# cities_df.to_csv(\"Output/weatherpy_data.csv\", encoding=\"utf-8\", index=False)"
   ]
  },
  {
   "cell_type": "code",
   "execution_count": null,
   "metadata": {},
   "outputs": [],
   "source": [
    "# Build a scatter plot City Latitude vs. Temperature\n",
    "sns.set_style('ticks')\n",
    "sns.set(style=\"dark\")\n",
    "fig, ax = plt.subplots()\n",
    "p = sns.regplot(x=\"Latitude\", y=\"Temp (F)\", data=cities_df, fit_reg=False).set_title('Temp (F) by Latitude')\n",
    "\n",
    "# Save the figure\n",
    "\n",
    "p.savefig(\"Temp/Latitude\")\n",
    "\n",
    "# Show plot\n",
    "plt.show()"
   ]
  },
  {
   "cell_type": "code",
   "execution_count": null,
   "metadata": {},
   "outputs": [],
   "source": [
    "# Build a scatter plot City Latitude vs. Humidity\n",
    "sns.set_style('ticks')\n",
    "sns.set(style=\"dark\")\n",
    "fig, ax = plt.subplots()\n",
    "p = sns.regplot(x=\"Latitude\", y=\"Humidity (%)\", data=cities_df, fit_reg=False).set_title('Humidity (%) by Latitude')\n",
    "\n",
    "# Save the figure\n",
    "p.savefig(\"Humidity/Latitude\")\n",
    "\n",
    "# Show plot\n",
    "plt.show()"
   ]
  },
  {
   "cell_type": "code",
   "execution_count": null,
   "metadata": {},
   "outputs": [],
   "source": [
    "# Build a scatter plot City Latitude vs. Cloudiness\n",
    "sns.set_style('ticks')\n",
    "sns.set(style=\"dark\")\n",
    "fig, ax = plt.subplots()\n",
    "p = sns.regplot(x=\"Latitude\", y=\"Cloudiness (%)\", data=cities_df, fit_reg=False).set_title('Cloud Cover (%) by Latitude')\n",
    "\n",
    "p.savefig(\"CloudCover/Latitude\")\n",
    "\n",
    "# Show plot\n",
    "plt.show()"
   ]
  },
  {
   "cell_type": "code",
   "execution_count": null,
   "metadata": {},
   "outputs": [],
   "source": [
    "# Build a scatter plot City Latitude vs. Wind Speed\n",
    "sns.set_style('ticks')\n",
    "sns.set(style=\"dark\")\n",
    "fig, ax = plt.subplots()\n",
    "p = sns.regplot(x=\"Latitude\", y=\"Wind Speed (mph)\", data=cities_df, fit_reg=False).set_title('Wind Speed (mph) by Latitude')\n",
    "\n",
    "# Save the figure\n",
    "p.savefig(\"WindSpeed/Latitude\")\n",
    "\n",
    "# Show plot\n",
    "plt.show()"
   ]
  },
  {
   "cell_type": "code",
   "execution_count": null,
   "metadata": {},
   "outputs": [],
   "source": []
  },
  {
   "cell_type": "code",
   "execution_count": null,
   "metadata": {},
   "outputs": [],
   "source": []
  }
 ],
 "metadata": {
  "kernelspec": {
   "display_name": "Python 3",
   "language": "python",
   "name": "python3"
  },
  "language_info": {
   "codemirror_mode": {
    "name": "ipython",
    "version": 3
   },
   "file_extension": ".py",
   "mimetype": "text/x-python",
   "name": "python",
   "nbconvert_exporter": "python",
   "pygments_lexer": "ipython3",
   "version": "3.6.4"
  }
 },
 "nbformat": 4,
 "nbformat_minor": 2
}
